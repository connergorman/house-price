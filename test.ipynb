{
 "cells": [
  {
   "cell_type": "code",
   "execution_count": 1,
   "metadata": {},
   "outputs": [],
   "source": [
    "import numpy as np\n",
    "import pandas as pd\n",
    "from IPython.display import Markdown, display\n",
    "import matplotlib.pyplot as plt\n",
    "import seaborn as sns\n",
    "%matplotlib inline"
   ]
  },
  {
   "cell_type": "code",
   "execution_count": 3,
   "metadata": {},
   "outputs": [],
   "source": [
    "df = pd.read_csv(\"train.csv\", index_col=0, keep_default_na=False)"
   ]
  },
  {
   "cell_type": "code",
   "execution_count": 4,
   "metadata": {},
   "outputs": [
    {
     "name": "stdout",
     "output_type": "stream",
     "text": [
      "<class 'pandas.core.frame.DataFrame'>\n",
      "Int64Index: 1460 entries, 1 to 1460\n",
      "Data columns (total 80 columns):\n",
      " #   Column         Non-Null Count  Dtype \n",
      "---  ------         --------------  ----- \n",
      " 0   MSSubClass     1460 non-null   int64 \n",
      " 1   MSZoning       1460 non-null   object\n",
      " 2   LotFrontage    1460 non-null   object\n",
      " 3   LotArea        1460 non-null   int64 \n",
      " 4   Street         1460 non-null   object\n",
      " 5   Alley          1460 non-null   object\n",
      " 6   LotShape       1460 non-null   object\n",
      " 7   LandContour    1460 non-null   object\n",
      " 8   Utilities      1460 non-null   object\n",
      " 9   LotConfig      1460 non-null   object\n",
      " 10  LandSlope      1460 non-null   object\n",
      " 11  Neighborhood   1460 non-null   object\n",
      " 12  Condition1     1460 non-null   object\n",
      " 13  Condition2     1460 non-null   object\n",
      " 14  BldgType       1460 non-null   object\n",
      " 15  HouseStyle     1460 non-null   object\n",
      " 16  OverallQual    1460 non-null   int64 \n",
      " 17  OverallCond    1460 non-null   int64 \n",
      " 18  YearBuilt      1460 non-null   int64 \n",
      " 19  YearRemodAdd   1460 non-null   int64 \n",
      " 20  RoofStyle      1460 non-null   object\n",
      " 21  RoofMatl       1460 non-null   object\n",
      " 22  Exterior1st    1460 non-null   object\n",
      " 23  Exterior2nd    1460 non-null   object\n",
      " 24  MasVnrType     1460 non-null   object\n",
      " 25  MasVnrArea     1460 non-null   object\n",
      " 26  ExterQual      1460 non-null   object\n",
      " 27  ExterCond      1460 non-null   object\n",
      " 28  Foundation     1460 non-null   object\n",
      " 29  BsmtQual       1460 non-null   object\n",
      " 30  BsmtCond       1460 non-null   object\n",
      " 31  BsmtExposure   1460 non-null   object\n",
      " 32  BsmtFinType1   1460 non-null   object\n",
      " 33  BsmtFinSF1     1460 non-null   int64 \n",
      " 34  BsmtFinType2   1460 non-null   object\n",
      " 35  BsmtFinSF2     1460 non-null   int64 \n",
      " 36  BsmtUnfSF      1460 non-null   int64 \n",
      " 37  TotalBsmtSF    1460 non-null   int64 \n",
      " 38  Heating        1460 non-null   object\n",
      " 39  HeatingQC      1460 non-null   object\n",
      " 40  CentralAir     1460 non-null   object\n",
      " 41  Electrical     1460 non-null   object\n",
      " 42  1stFlrSF       1460 non-null   int64 \n",
      " 43  2ndFlrSF       1460 non-null   int64 \n",
      " 44  LowQualFinSF   1460 non-null   int64 \n",
      " 45  GrLivArea      1460 non-null   int64 \n",
      " 46  BsmtFullBath   1460 non-null   int64 \n",
      " 47  BsmtHalfBath   1460 non-null   int64 \n",
      " 48  FullBath       1460 non-null   int64 \n",
      " 49  HalfBath       1460 non-null   int64 \n",
      " 50  BedroomAbvGr   1460 non-null   int64 \n",
      " 51  KitchenAbvGr   1460 non-null   int64 \n",
      " 52  KitchenQual    1460 non-null   object\n",
      " 53  TotRmsAbvGrd   1460 non-null   int64 \n",
      " 54  Functional     1460 non-null   object\n",
      " 55  Fireplaces     1460 non-null   int64 \n",
      " 56  FireplaceQu    1460 non-null   object\n",
      " 57  GarageType     1460 non-null   object\n",
      " 58  GarageYrBlt    1460 non-null   object\n",
      " 59  GarageFinish   1460 non-null   object\n",
      " 60  GarageCars     1460 non-null   int64 \n",
      " 61  GarageArea     1460 non-null   int64 \n",
      " 62  GarageQual     1460 non-null   object\n",
      " 63  GarageCond     1460 non-null   object\n",
      " 64  PavedDrive     1460 non-null   object\n",
      " 65  WoodDeckSF     1460 non-null   int64 \n",
      " 66  OpenPorchSF    1460 non-null   int64 \n",
      " 67  EnclosedPorch  1460 non-null   int64 \n",
      " 68  3SsnPorch      1460 non-null   int64 \n",
      " 69  ScreenPorch    1460 non-null   int64 \n",
      " 70  PoolArea       1460 non-null   int64 \n",
      " 71  PoolQC         1460 non-null   object\n",
      " 72  Fence          1460 non-null   object\n",
      " 73  MiscFeature    1460 non-null   object\n",
      " 74  MiscVal        1460 non-null   int64 \n",
      " 75  MoSold         1460 non-null   int64 \n",
      " 76  YrSold         1460 non-null   int64 \n",
      " 77  SaleType       1460 non-null   object\n",
      " 78  SaleCondition  1460 non-null   object\n",
      " 79  SalePrice      1460 non-null   int64 \n",
      "dtypes: int64(34), object(46)\n",
      "memory usage: 923.9+ KB\n"
     ]
    }
   ],
   "source": [
    "df.info()"
   ]
  },
  {
   "cell_type": "code",
   "execution_count": 6,
   "metadata": {},
   "outputs": [
    {
     "data": {
      "text/plain": [
       "'NA'"
      ]
     },
     "execution_count": 6,
     "metadata": {},
     "output_type": "execute_result"
    }
   ],
   "source": [
    "df.loc[1380]['Electrical']"
   ]
  },
  {
   "cell_type": "code",
   "execution_count": null,
   "metadata": {},
   "outputs": [],
   "source": []
  }
 ],
 "metadata": {
  "kernelspec": {
   "display_name": "Python 3.9.13 ('house-price')",
   "language": "python",
   "name": "python3"
  },
  "language_info": {
   "codemirror_mode": {
    "name": "ipython",
    "version": 3
   },
   "file_extension": ".py",
   "mimetype": "text/x-python",
   "name": "python",
   "nbconvert_exporter": "python",
   "pygments_lexer": "ipython3",
   "version": "3.10.6"
  },
  "orig_nbformat": 4,
  "vscode": {
   "interpreter": {
    "hash": "811389e9793356050a51373275bc6acddf76931ccfc0bbe5859710f6dbdf5e1a"
   }
  }
 },
 "nbformat": 4,
 "nbformat_minor": 2
}
