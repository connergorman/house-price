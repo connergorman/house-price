{
 "cells": [
  {
   "cell_type": "markdown",
   "metadata": {},
   "source": [
    "# Data Wrangling\n",
    "\n",
    "From the EDA, we can see some places where columns can be deleted, but we also saw a good number of nan values. Part of this comes from the fact that a valid category for many variables is \"NA,\" which pandas optionally treats as np.nan when it reads in data. However, for numerical variables this is not the case, and those values must be filled, deleted, or have the index removed.  \n",
    "\n",
    "To fix the NA/nan issue, I will load the data set, then select all columns where NA _should_ be read as nan, and replace it with N/A. Then I can write it back to a file and read it with na_values = ['N/A'] and keep_default_na = False so that there is a distinction made between NA as a valid category and NA as missing. By writing back to a file, I can load the data in other files without having to redo fillna() steps."
   ]
  },
  {
   "cell_type": "code",
   "execution_count": 1,
   "metadata": {},
   "outputs": [],
   "source": [
    "import numpy as np\n",
    "import pandas as pd\n",
    "from IPython.display import Markdown, display\n",
    "import matplotlib.pyplot as plt\n",
    "import seaborn as sns\n",
    "%matplotlib inline"
   ]
  },
  {
   "cell_type": "markdown",
   "metadata": {},
   "source": [
    "This code was run once to generate the easier-to-deal with train_cleaner file that has different values for truly missing data vs data that has a valid NA entry.\n",
    "```\n",
    "keep_na_cols = ['Alley', 'BsmtQual', 'BsmtCond', 'BsmtExposure', 'BsmtFinType1', \n",
    "'BsmtFinType2', 'FireplaceQu', 'GarageType', 'GarageFinish', 'GarageQual', \n",
    "'GarageCond', 'PoolQC', 'Fence', 'MiscFeature']\n",
    "keep_na_dict = {col : \"NA\" for col in keep_na_cols}\n",
    "df = pd.read_csv(\"../train.csv\", index_col=0)\n",
    "change_na_cols = [col for col in df.columns if col not in keep_na_cols]\n",
    "change_na_dict = {col : 'N/A' for col in change_na_cols}\n",
    "``` \n",
    "```\n",
    "df.fillna(change_na_dict, inplace=True)\n",
    "df.fillna(keep_na_dict, inplace=True)\n",
    "df.to_csv(\"../train_cleaner.csv\")\n",
    "```\n"
   ]
  },
  {
   "cell_type": "code",
   "execution_count": 67,
   "metadata": {},
   "outputs": [],
   "source": [
    "df = pd.read_csv(\"../train_cleaner.csv\", na_values='N/A', keep_default_na=False)"
   ]
  },
  {
   "cell_type": "code",
   "execution_count": 68,
   "metadata": {},
   "outputs": [
    {
     "data": {
      "text/plain": [
       "LotFrontage    259\n",
       "MasVnrType       8\n",
       "MasVnrArea       8\n",
       "Electrical       1\n",
       "GarageYrBlt     81\n",
       "dtype: int64"
      ]
     },
     "execution_count": 68,
     "metadata": {},
     "output_type": "execute_result"
    }
   ],
   "source": [
    "df[df.columns[df.isna().any()].tolist()].count().apply(lambda x: 1460 - x)"
   ]
  },
  {
   "cell_type": "markdown",
   "metadata": {},
   "source": [
    "Missed masonry veneer, fille that with None (and the corresponding MasVnrArea with 0)"
   ]
  },
  {
   "cell_type": "code",
   "execution_count": 100,
   "metadata": {},
   "outputs": [],
   "source": [
    "df['MasVnrType'].fillna('None', inplace=True)\n",
    "df['MasVnrArea'].fillna(0.0, inplace=True)"
   ]
  },
  {
   "cell_type": "markdown",
   "metadata": {},
   "source": [
    "\n",
    "\n",
    "\n",
    "# Data cleaning\n",
    "The first step is to remove columns/rows that we indicated in EDA.\n",
    "\n",
    "One assumption that I make is that remodel date is less important than how old the house was when it was remodeled. So I replace YearRemodAdd with \"AgeRemodAdd\" which is YearBuilt - YearRemodAdd"
   ]
  },
  {
   "cell_type": "code",
   "execution_count": 69,
   "metadata": {},
   "outputs": [],
   "source": [
    "df['AgeRemodAdd'] = df['YearRemodAdd'] - df['YearBuilt']\n",
    "df.drop('YearRemodAdd', axis = 1, inplace=True)"
   ]
  },
  {
   "cell_type": "markdown",
   "metadata": {},
   "source": [
    "We also want to drop index 945 and column 'Utilities'"
   ]
  },
  {
   "cell_type": "code",
   "execution_count": 74,
   "metadata": {},
   "outputs": [],
   "source": [
    "df.drop(df.index[df['Id'] == 945][0], inplace=True)\n",
    "df.drop('Utilities', axis=1, inplace=True)"
   ]
  },
  {
   "cell_type": "markdown",
   "metadata": {},
   "source": [
    "Delete GarageCars column, GarageArea should be enough"
   ]
  },
  {
   "cell_type": "code",
   "execution_count": 81,
   "metadata": {},
   "outputs": [],
   "source": [
    "df.drop('GarageCars', axis=1, inplace=True)"
   ]
  },
  {
   "cell_type": "markdown",
   "metadata": {},
   "source": [
    "## Fill N/A values in numerical fields\n",
    "For LotFrontage, it makes sense to use the mean per neighborhood."
   ]
  },
  {
   "cell_type": "code",
   "execution_count": 93,
   "metadata": {},
   "outputs": [],
   "source": [
    "\n",
    "\n",
    "df['LotFrontage'] = df.groupby('Neighborhood')['LotFrontage'].transform(lambda x : x.fillna(x.mean()))\n"
   ]
  },
  {
   "cell_type": "code",
   "execution_count": 104,
   "metadata": {},
   "outputs": [],
   "source": [
    "df['Electrical'].fillna('SBrkr', inplace=True)"
   ]
  },
  {
   "cell_type": "markdown",
   "metadata": {},
   "source": [
    "The last variable with nan is Garage Year built, but when a home has no garage there is no relevant fill value. For now, let's try dropping the col"
   ]
  },
  {
   "cell_type": "code",
   "execution_count": 115,
   "metadata": {},
   "outputs": [],
   "source": [
    "df.drop('GarageYrBlt', axis=1, inplace=True)"
   ]
  },
  {
   "cell_type": "markdown",
   "metadata": {},
   "source": [
    "This concludes the drops/fills we had to do in order to clean up the data in a minimal way. For now, let's write it to a file so we can pull identical data elsewhere, where we may want to drop/augment the data in various ways. "
   ]
  },
  {
   "cell_type": "code",
   "execution_count": 116,
   "metadata": {},
   "outputs": [],
   "source": [
    "df.to_csv(\"../base_train.csv\")"
   ]
  },
  {
   "cell_type": "code",
   "execution_count": null,
   "metadata": {},
   "outputs": [],
   "source": []
  }
 ],
 "metadata": {
  "kernelspec": {
   "display_name": "Python 3.10.6 ('house_price')",
   "language": "python",
   "name": "python3"
  },
  "language_info": {
   "codemirror_mode": {
    "name": "ipython",
    "version": 3
   },
   "file_extension": ".py",
   "mimetype": "text/x-python",
   "name": "python",
   "nbconvert_exporter": "python",
   "pygments_lexer": "ipython3",
   "version": "3.10.6"
  },
  "orig_nbformat": 4,
  "vscode": {
   "interpreter": {
    "hash": "83af67dd6ae40f2384027e60458bd43a18ef8d83ef9569c491bc385eec8f15f3"
   }
  }
 },
 "nbformat": 4,
 "nbformat_minor": 2
}
