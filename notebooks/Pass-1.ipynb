{
 "cells": [
  {
   "cell_type": "code",
   "execution_count": 1,
   "metadata": {},
   "outputs": [],
   "source": [
    "import numpy as np\n",
    "import pandas as pd\n",
    "from IPython.display import Markdown, display\n",
    "import matplotlib.pyplot as plt\n",
    "import seaborn as sns\n",
    "from sklearn.linear_model import LinearRegression\n",
    "from sklearn.preprocessing import normalize \n",
    "%matplotlib inline"
   ]
  },
  {
   "cell_type": "code",
   "execution_count": 12,
   "metadata": {},
   "outputs": [],
   "source": [
    "df = pd.read_csv(\"../base_train.csv\", index_col=0)"
   ]
  },
  {
   "cell_type": "code",
   "execution_count": 13,
   "metadata": {},
   "outputs": [],
   "source": [
    "df_num = df.select_dtypes(include=[\"number\"])"
   ]
  },
  {
   "cell_type": "code",
   "execution_count": 14,
   "metadata": {},
   "outputs": [
    {
     "name": "stdout",
     "output_type": "stream",
     "text": [
      "<class 'pandas.core.frame.DataFrame'>\n",
      "Int64Index: 1459 entries, 0 to 1459\n",
      "Data columns (total 36 columns):\n",
      " #   Column         Non-Null Count  Dtype  \n",
      "---  ------         --------------  -----  \n",
      " 0   Id             1459 non-null   int64  \n",
      " 1   MSSubClass     1459 non-null   int64  \n",
      " 2   LotFrontage    1459 non-null   float64\n",
      " 3   LotArea        1459 non-null   int64  \n",
      " 4   OverallQual    1459 non-null   int64  \n",
      " 5   OverallCond    1459 non-null   int64  \n",
      " 6   YearBuilt      1459 non-null   int64  \n",
      " 7   MasVnrArea     1451 non-null   float64\n",
      " 8   BsmtFinSF1     1459 non-null   int64  \n",
      " 9   BsmtFinSF2     1459 non-null   int64  \n",
      " 10  BsmtUnfSF      1459 non-null   int64  \n",
      " 11  TotalBsmtSF    1459 non-null   int64  \n",
      " 12  1stFlrSF       1459 non-null   int64  \n",
      " 13  2ndFlrSF       1459 non-null   int64  \n",
      " 14  LowQualFinSF   1459 non-null   int64  \n",
      " 15  GrLivArea      1459 non-null   int64  \n",
      " 16  BsmtFullBath   1459 non-null   int64  \n",
      " 17  BsmtHalfBath   1459 non-null   int64  \n",
      " 18  FullBath       1459 non-null   int64  \n",
      " 19  HalfBath       1459 non-null   int64  \n",
      " 20  BedroomAbvGr   1459 non-null   int64  \n",
      " 21  KitchenAbvGr   1459 non-null   int64  \n",
      " 22  TotRmsAbvGrd   1459 non-null   int64  \n",
      " 23  Fireplaces     1459 non-null   int64  \n",
      " 24  GarageArea     1459 non-null   int64  \n",
      " 25  WoodDeckSF     1459 non-null   int64  \n",
      " 26  OpenPorchSF    1459 non-null   int64  \n",
      " 27  EnclosedPorch  1459 non-null   int64  \n",
      " 28  3SsnPorch      1459 non-null   int64  \n",
      " 29  ScreenPorch    1459 non-null   int64  \n",
      " 30  PoolArea       1459 non-null   int64  \n",
      " 31  MiscVal        1459 non-null   int64  \n",
      " 32  MoSold         1459 non-null   int64  \n",
      " 33  YrSold         1459 non-null   int64  \n",
      " 34  AgeRemodAdd    1459 non-null   int64  \n",
      " 35  SalePrice      1459 non-null   int64  \n",
      "dtypes: float64(2), int64(34)\n",
      "memory usage: 421.7 KB\n"
     ]
    }
   ],
   "source": [
    "df_num.info()"
   ]
  },
  {
   "cell_type": "code",
   "execution_count": 10,
   "metadata": {},
   "outputs": [
    {
     "data": {
      "text/plain": [
       "0          1\n",
       "1          2\n",
       "2          3\n",
       "3          4\n",
       "4          5\n",
       "        ... \n",
       "1455    1456\n",
       "1456    1457\n",
       "1457    1458\n",
       "1458    1459\n",
       "1459    1460\n",
       "Name: Id, Length: 1459, dtype: int64"
      ]
     },
     "execution_count": 10,
     "metadata": {},
     "output_type": "execute_result"
    }
   ],
   "source": []
  },
  {
   "cell_type": "code",
   "execution_count": null,
   "metadata": {},
   "outputs": [],
   "source": []
  }
 ],
 "metadata": {
  "kernelspec": {
   "display_name": "Python 3.10.6 ('house_price')",
   "language": "python",
   "name": "python3"
  },
  "language_info": {
   "codemirror_mode": {
    "name": "ipython",
    "version": 3
   },
   "file_extension": ".py",
   "mimetype": "text/x-python",
   "name": "python",
   "nbconvert_exporter": "python",
   "pygments_lexer": "ipython3",
   "version": "3.10.6"
  },
  "orig_nbformat": 4,
  "vscode": {
   "interpreter": {
    "hash": "83af67dd6ae40f2384027e60458bd43a18ef8d83ef9569c491bc385eec8f15f3"
   }
  }
 },
 "nbformat": 4,
 "nbformat_minor": 2
}
