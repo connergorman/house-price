{
 "cells": [
  {
   "cell_type": "code",
   "execution_count": 2,
   "metadata": {},
   "outputs": [],
   "source": [
    "import numpy as np\n",
    "import pandas as pd\n",
    "from IPython.display import Markdown, display\n",
    "import matplotlib.pyplot as plt\n",
    "import seaborn as sns\n",
    "from sklearn.linear_model import LinearRegression\n",
    "from sklearn.preprocessing import StandardScaler \n",
    "from sklearn.model_selection import train_test_split\n",
    "%matplotlib inline"
   ]
  },
  {
   "cell_type": "code",
   "execution_count": 17,
   "metadata": {},
   "outputs": [],
   "source": [
    "train = pd.read_csv(\"../base_train.csv\", na_values='N/A', keep_default_na=False, index_col=0)\n",
    "# test = pd.read_csv(\"../base_test.csv\", na_values='N/A', keep_default_na=False, index_col=0)\n",
    "X = train.drop('SalePrice', axis=1)\n",
    "Y = train['SalePrice']"
   ]
  },
  {
   "cell_type": "code",
   "execution_count": 18,
   "metadata": {},
   "outputs": [
    {
     "name": "stdout",
     "output_type": "stream",
     "text": [
      "<class 'pandas.core.frame.DataFrame'>\n",
      "Int64Index: 1459 entries, 1 to 1460\n",
      "Data columns (total 76 columns):\n",
      " #   Column         Non-Null Count  Dtype  \n",
      "---  ------         --------------  -----  \n",
      " 0   MSSubClass     1459 non-null   int64  \n",
      " 1   MSZoning       1459 non-null   object \n",
      " 2   LotFrontage    1459 non-null   float64\n",
      " 3   LotArea        1459 non-null   int64  \n",
      " 4   Street         1459 non-null   object \n",
      " 5   Alley          1459 non-null   object \n",
      " 6   LotShape       1459 non-null   object \n",
      " 7   LandContour    1459 non-null   object \n",
      " 8   LotConfig      1459 non-null   object \n",
      " 9   LandSlope      1459 non-null   object \n",
      " 10  Neighborhood   1459 non-null   object \n",
      " 11  Condition1     1459 non-null   object \n",
      " 12  Condition2     1459 non-null   object \n",
      " 13  BldgType       1459 non-null   object \n",
      " 14  HouseStyle     1459 non-null   object \n",
      " 15  OverallQual    1459 non-null   int64  \n",
      " 16  OverallCond    1459 non-null   int64  \n",
      " 17  YearBuilt      1459 non-null   int64  \n",
      " 18  RoofStyle      1459 non-null   object \n",
      " 19  RoofMatl       1459 non-null   object \n",
      " 20  Exterior1st    1459 non-null   object \n",
      " 21  Exterior2nd    1459 non-null   object \n",
      " 22  MasVnrType     1459 non-null   object \n",
      " 23  MasVnrArea     1459 non-null   float64\n",
      " 24  ExterQual      1459 non-null   object \n",
      " 25  ExterCond      1459 non-null   object \n",
      " 26  Foundation     1459 non-null   object \n",
      " 27  BsmtQual       1459 non-null   object \n",
      " 28  BsmtCond       1459 non-null   object \n",
      " 29  BsmtExposure   1459 non-null   object \n",
      " 30  BsmtFinType1   1459 non-null   object \n",
      " 31  BsmtFinSF1     1459 non-null   int64  \n",
      " 32  BsmtFinType2   1459 non-null   object \n",
      " 33  BsmtFinSF2     1459 non-null   int64  \n",
      " 34  BsmtUnfSF      1459 non-null   int64  \n",
      " 35  TotalBsmtSF    1459 non-null   int64  \n",
      " 36  Heating        1459 non-null   object \n",
      " 37  HeatingQC      1459 non-null   object \n",
      " 38  CentralAir     1459 non-null   object \n",
      " 39  Electrical     1459 non-null   object \n",
      " 40  1stFlrSF       1459 non-null   int64  \n",
      " 41  2ndFlrSF       1459 non-null   int64  \n",
      " 42  LowQualFinSF   1459 non-null   int64  \n",
      " 43  GrLivArea      1459 non-null   int64  \n",
      " 44  BsmtFullBath   1459 non-null   int64  \n",
      " 45  BsmtHalfBath   1459 non-null   int64  \n",
      " 46  FullBath       1459 non-null   int64  \n",
      " 47  HalfBath       1459 non-null   int64  \n",
      " 48  BedroomAbvGr   1459 non-null   int64  \n",
      " 49  KitchenAbvGr   1459 non-null   int64  \n",
      " 50  KitchenQual    1459 non-null   object \n",
      " 51  TotRmsAbvGrd   1459 non-null   int64  \n",
      " 52  Functional     1459 non-null   object \n",
      " 53  Fireplaces     1459 non-null   int64  \n",
      " 54  FireplaceQu    1459 non-null   object \n",
      " 55  GarageType     1459 non-null   object \n",
      " 56  GarageFinish   1459 non-null   object \n",
      " 57  GarageArea     1459 non-null   int64  \n",
      " 58  GarageQual     1459 non-null   object \n",
      " 59  GarageCond     1459 non-null   object \n",
      " 60  PavedDrive     1459 non-null   object \n",
      " 61  WoodDeckSF     1459 non-null   int64  \n",
      " 62  OpenPorchSF    1459 non-null   int64  \n",
      " 63  EnclosedPorch  1459 non-null   int64  \n",
      " 64  3SsnPorch      1459 non-null   int64  \n",
      " 65  ScreenPorch    1459 non-null   int64  \n",
      " 66  PoolArea       1459 non-null   int64  \n",
      " 67  PoolQC         1459 non-null   object \n",
      " 68  Fence          1459 non-null   object \n",
      " 69  MiscFeature    1459 non-null   object \n",
      " 70  MiscVal        1459 non-null   int64  \n",
      " 71  MoSold         1459 non-null   int64  \n",
      " 72  YrSold         1459 non-null   int64  \n",
      " 73  SaleType       1459 non-null   object \n",
      " 74  SaleCondition  1459 non-null   object \n",
      " 75  AgeRemodAdd    1459 non-null   int64  \n",
      "dtypes: float64(2), int64(32), object(42)\n",
      "memory usage: 877.7+ KB\n"
     ]
    }
   ],
   "source": [
    "X.info()"
   ]
  },
  {
   "cell_type": "code",
   "execution_count": 19,
   "metadata": {},
   "outputs": [
    {
     "name": "stdout",
     "output_type": "stream",
     "text": [
      "<class 'pandas.core.series.Series'>\n",
      "Int64Index: 1459 entries, 1 to 1460\n",
      "Series name: SalePrice\n",
      "Non-Null Count  Dtype\n",
      "--------------  -----\n",
      "1459 non-null   int64\n",
      "dtypes: int64(1)\n",
      "memory usage: 22.8 KB\n"
     ]
    }
   ],
   "source": [
    "Y.info()"
   ]
  }
 ],
 "metadata": {
  "kernelspec": {
   "display_name": "Python 3.10.6 ('house_price')",
   "language": "python",
   "name": "python3"
  },
  "language_info": {
   "codemirror_mode": {
    "name": "ipython",
    "version": 3
   },
   "file_extension": ".py",
   "mimetype": "text/x-python",
   "name": "python",
   "nbconvert_exporter": "python",
   "pygments_lexer": "ipython3",
   "version": "3.10.6"
  },
  "orig_nbformat": 4,
  "vscode": {
   "interpreter": {
    "hash": "83af67dd6ae40f2384027e60458bd43a18ef8d83ef9569c491bc385eec8f15f3"
   }
  }
 },
 "nbformat": 4,
 "nbformat_minor": 2
}
